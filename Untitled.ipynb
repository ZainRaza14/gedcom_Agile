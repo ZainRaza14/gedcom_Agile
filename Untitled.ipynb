{
 "cells": [
  {
   "cell_type": "code",
   "execution_count": 1,
   "metadata": {},
   "outputs": [],
   "source": [
    "from print_main import printTables\n",
    "from sprint_1 import sprint_1_user_stories"
   ]
  },
  {
   "cell_type": "code",
   "execution_count": 2,
   "metadata": {},
   "outputs": [],
   "source": [
    "#printTables('famTest_1.ged')"
   ]
  },
  {
   "cell_type": "code",
   "execution_count": 5,
   "metadata": {
    "scrolled": true
   },
   "outputs": [
    {
     "name": "stdout",
     "output_type": "stream",
     "text": [
      "\n",
      "\n",
      "Individuals Information----------------------->\n",
      "\n",
      "+-----+------------------+--------+------------+-----+-------+------------+-------+--------+\n",
      "|  ID |       Name       | Gender |  Birthday  | Age | Alive |   Death    | Child | Spouse |\n",
      "+-----+------------------+--------+------------+-----+-------+------------+-------+--------+\n",
      "| I01 |   Joe /Smith/    |   M    | 1960-07-15 |  53 | False | 2013-12-31 |   NA  |  F23   |\n",
      "| I07 | Jennifer /Smith/ |   F    | 1960-09-23 |  59 |  True |     NA     |   NA  |  F23   |\n",
      "| I19 |   Dick /Smith/   |   M    | 1981-02-13 |  38 |  True |     NA     |  F23  |   NA   |\n",
      "| I28 |    Patrick /     |   M    | 1992-02-13 |  27 |  True |     NA     |   NA  |  F24   |\n",
      "| I29 |      Angela      |   M    | 1992-03-13 |  27 |  True |     NA     |   NA  |  F24   |\n",
      "| I26 |   Jane /Smith/   |   F    | 1983-06-02 |  36 |  True |     NA     |  F23  |   NA   |\n",
      "+-----+------------------+--------+------------+-----+-------+------------+-------+--------+\n",
      "\n",
      "\n",
      "Family Information----------------------->\n",
      "\n",
      "+-----+------------+------------+------------+--------------+---------+------------------+----------------+\n",
      "|  ID |  Married   |  Divorced  | Husband ID | Husband Name | Wife ID |    Wife Name     |    Children    |\n",
      "+-----+------------+------------+------------+--------------+---------+------------------+----------------+\n",
      "| F23 | 1981-02-14 | 1980-03-14 |    I01     | Joe /Smith/  |   I07   | Jennifer /Smith/ | ['I19', 'I26'] |\n",
      "| F24 | 2018-11-14 | 2019-11-14 |    I28     |  Patrick /   |   I29   |      Angela      |       []       |\n",
      "+-----+------------+------------+------------+--------------+---------+------------------+----------------+\n",
      "ERROR: FAMILY: US04: F23: Divorced 1980-03-14 before married 1981-02-14 \n",
      "ANOMALY: FAMILY: US08: I19: born 1981-02-13 before marriage on 1981-02-14\n",
      "ANOMALY: FAMILY: US08: I19: born 1981-02-13 after divorce on 1981-02-14\n",
      "ANOMALY: FAMILY: US08: I26: born 1983-06-02 after divorce on 1981-02-14\n"
     ]
    }
   ],
   "source": [
    "sprint_1_user_stories()"
   ]
  },
  {
   "cell_type": "code",
   "execution_count": 4,
   "metadata": {},
   "outputs": [],
   "source": [
    "from userStory03 import user_story03_main"
   ]
  },
  {
   "cell_type": "code",
   "execution_count": 5,
   "metadata": {},
   "outputs": [
    {
     "name": "stdout",
     "output_type": "stream",
     "text": [
      "ERROR: INDIVIDUAL: US03: I01 : Died 1959-12-31 before born 1960-07-15 \n"
     ]
    }
   ],
   "source": [
    "user_story03_main()"
   ]
  },
  {
   "cell_type": "code",
   "execution_count": 11,
   "metadata": {},
   "outputs": [],
   "source": [
    "from userStory06 import user_story06_main"
   ]
  },
  {
   "cell_type": "code",
   "execution_count": 12,
   "metadata": {},
   "outputs": [
    {
     "name": "stdout",
     "output_type": "stream",
     "text": [
      "ERROR: FAMILY: US06: F23 : Divorce 1999-02-14 is after death 1998-12-31 \n"
     ]
    }
   ],
   "source": [
    "user_story06_main()"
   ]
  },
  {
   "cell_type": "code",
   "execution_count": null,
   "metadata": {},
   "outputs": [],
   "source": []
  }
 ],
 "metadata": {
  "kernelspec": {
   "display_name": "Python 3",
   "language": "python",
   "name": "python3"
  },
  "language_info": {
   "codemirror_mode": {
    "name": "ipython",
    "version": 3
   },
   "file_extension": ".py",
   "mimetype": "text/x-python",
   "name": "python",
   "nbconvert_exporter": "python",
   "pygments_lexer": "ipython3",
   "version": "3.6.7"
  }
 },
 "nbformat": 4,
 "nbformat_minor": 2
}
